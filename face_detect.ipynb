{
 "cells": [
  {
   "cell_type": "code",
   "execution_count": null,
   "metadata": {},
   "outputs": [],
   "source": [
    "\n"
   ]
  },
  {
   "cell_type": "code",
   "execution_count": 1,
   "metadata": {},
   "outputs": [],
   "source": [
    "# import the necessary packages\n",
    "from pyimagesearch.livenessnet import LivenessNet\n",
    "from sklearn.preprocessing import LabelEncoder\n",
    "from sklearn.model_selection import train_test_split\n",
    "from sklearn.metrics import classification_report\n",
    "from tensorflow.keras.preprocessing.image import ImageDataGenerator\n",
    "from tensorflow.keras.optimizers import Adam\n",
    "from tensorflow.keras.utils import to_categorical\n",
    "from imutils import paths\n",
    "import matplotlib.pyplot as plt\n",
    "import numpy as np\n",
    "import argparse\n",
    "import pickle\n",
    "import cv2\n",
    "import os\n",
    "import matplotlib"
   ]
  },
  {
   "cell_type": "code",
   "execution_count": null,
   "metadata": {},
   "outputs": [],
   "source": [
    "import os\n",
    "import numpy as np\n",
    "import shutil\n",
    "\n",
    "# # Creating Train / Val / Test folders (One time use)\n",
    "root_dir = 'dataset'\n",
    "posCls = '/real'\n",
    "negCls = '/fake'\n",
    "\n",
    "# os.makedirs(root_dir +'/train' + posCls)\n",
    "# os.makedirs(root_dir +'/train' + negCls)\n",
    "# os.makedirs(root_dir +'/val' + posCls)\n",
    "# os.makedirs(root_dir +'/val' + negCls)\n",
    "# os.makedirs(root_dir +'/test' + posCls)\n",
    "# os.makedirs(root_dir +'/test' + negCls)\n",
    "\n",
    "# Creating partitions of the data after shuffeling\n",
    "currentCls = negCls\n",
    "src = \"dataset\"+currentCls # Folder to copy images from\n",
    "\n",
    "allFileNames = os.listdir(src)\n",
    "np.random.shuffle(allFileNames)\n",
    "train_FileNames, val_FileNames, test_FileNames = np.split(np.array(allFileNames),\n",
    "                                                          [int(len(allFileNames)*0.7), int(len(allFileNames)*0.85)])\n",
    "\n",
    "\n",
    "train_FileNames = [src+'/'+ name for name in train_FileNames.tolist()]\n",
    "val_FileNames = [src+'/' + name for name in val_FileNames.tolist()]\n",
    "# test_FileNames = [src+'/' + name for name in test_FileNames.tolist()]\n",
    "\n",
    "print('Total images: ', len(allFileNames))\n",
    "print('Training: ', len(train_FileNames))\n",
    "print('Validation: ', len(val_FileNames))\n",
    "# print('Testing: ', len(test_FileNames))\n",
    "\n",
    "# Copy-pasting images\n",
    "for name in train_FileNames:\n",
    "    shutil.copy(name, \"dataset/train\"+currentCls)\n",
    "\n",
    "for name in val_FileNames:\n",
    "    shutil.copy(name, \"dataset/val\"+currentCls)"
   ]
  },
  {
   "cell_type": "code",
   "execution_count": 2,
   "metadata": {},
   "outputs": [],
   "source": [
    "# initialize the initial learning rate, batch size, and number of\n",
    "# epochs to train for\n",
    "INIT_LR = 1e-4\n",
    "BS = 16\n",
    "EPOCHS = 50"
   ]
  },
  {
   "cell_type": "code",
   "execution_count": 3,
   "metadata": {},
   "outputs": [
    {
     "name": "stdout",
     "output_type": "stream",
     "text": [
      "[INFO] loading images...\n"
     ]
    }
   ],
   "source": [
    "print(\"[INFO] loading images...\")\n",
    "imagePaths = list(paths.list_images(\"dataset\"))\n",
    "data = []\n",
    "labels = []"
   ]
  },
  {
   "cell_type": "code",
   "execution_count": 4,
   "metadata": {},
   "outputs": [],
   "source": [
    "# loop over all image paths\n",
    "for imagePath in imagePaths:\n",
    "\t# extract the class label from the filename, load the image and\n",
    "\t# resize it to be a fixed 32x32 pixels, ignoring aspect ratio\n",
    "\tlabel = imagePath.split(os.path.sep)[-2]\n",
    "\timage = cv2.imread(imagePath)\n",
    "\timage = cv2.resize(image, (224, 224))\n",
    "\n",
    "\t# update the data and labels lists, respectively\n",
    "\tdata.append(image)\n",
    "\tlabels.append(label)"
   ]
  },
  {
   "cell_type": "code",
   "execution_count": 5,
   "metadata": {},
   "outputs": [],
   "source": [
    "import pandas\n",
    "from collections import Counter\n",
    "label_count = Counter(labels)\n"
   ]
  },
  {
   "cell_type": "code",
   "execution_count": 6,
   "metadata": {},
   "outputs": [
    {
     "data": {
      "text/plain": [
       "Counter({'fake': 2438, 'real': 864})"
      ]
     },
     "execution_count": 6,
     "metadata": {},
     "output_type": "execute_result"
    }
   ],
   "source": [
    "label_count"
   ]
  },
  {
   "cell_type": "code",
   "execution_count": 7,
   "metadata": {},
   "outputs": [],
   "source": [
    "# convert the data into a NumPy array, then preprocess it by scaling\n",
    "# all pixel intensities to the range [0, 1]\n",
    "data = np.array(data, dtype=\"float\") / 255.0"
   ]
  },
  {
   "cell_type": "code",
   "execution_count": 8,
   "metadata": {},
   "outputs": [],
   "source": [
    "# encode the labels (which are currently strings) as integers and then\n",
    "# one-hot encode them\n",
    "le = LabelEncoder()\n",
    "labels = le.fit_transform(labels)\n",
    "labels = to_categorical(labels, 2)"
   ]
  },
  {
   "cell_type": "code",
   "execution_count": 9,
   "metadata": {},
   "outputs": [
    {
     "data": {
      "text/plain": [
       "array([0., 1.], dtype=float32)"
      ]
     },
     "execution_count": 9,
     "metadata": {},
     "output_type": "execute_result"
    }
   ],
   "source": [
    "np.unique(labels)"
   ]
  },
  {
   "cell_type": "code",
   "execution_count": null,
   "metadata": {},
   "outputs": [],
   "source": [
    "batch_size = 16\n",
    "\n",
    "# this is the augmentation configuration we will use for training\n",
    "train_datagen = ImageDataGenerator(\n",
    "        rescale=1./255,\n",
    "        shear_range=0.2,\n",
    "        zoom_range=0.2,\n",
    "        horizontal_flip=True)\n",
    "\n",
    "# this is the augmentation configuration we will use for testing:\n",
    "# only rescaling\n",
    "test_datagen = ImageDataGenerator(rescale=1./255)\n",
    "\n",
    "# this is a generator that will read pictures found in\n",
    "# subfolers of 'data/train', and indefinitely generate\n",
    "# batches of augmented image data\n",
    "train_generator = train_datagen.flow_from_directory(\n",
    "        'data/train',  # this is the target directory\n",
    "        target_size=(224, 224),  # all images will be resized to 150x150\n",
    "        batch_size=batch_size,\n",
    "        class_mode='binary')  # since we use binary_crossentropy loss, we need binary labels\n",
    "\n",
    "# this is a similar generator, for validation data\n",
    "validation_generator = test_datagen.flow_from_directory(\n",
    "        'data/val',\n",
    "        target_size=(224, 224),\n",
    "        batch_size=batch_size,\n",
    "        class_mode='binary')"
   ]
  },
  {
   "cell_type": "code",
   "execution_count": 10,
   "metadata": {},
   "outputs": [],
   "source": [
    "# partition the data into training and testing splits using 75% of\n",
    "# the data for training and the remaining 25% for testing\n",
    "(trainX, testX, trainY, testY) = train_test_split(data, labels,\n",
    "\ttest_size=0.20, random_state=42)"
   ]
  },
  {
   "cell_type": "code",
   "execution_count": 11,
   "metadata": {},
   "outputs": [
    {
     "data": {
      "text/plain": [
       "661"
      ]
     },
     "execution_count": 11,
     "metadata": {},
     "output_type": "execute_result"
    }
   ],
   "source": [
    "len(testX)"
   ]
  },
  {
   "cell_type": "code",
   "execution_count": 12,
   "metadata": {},
   "outputs": [],
   "source": [
    "# construct the training image generator for data augmentation\n",
    "aug = ImageDataGenerator(rotation_range=20, zoom_range=0.15,\n",
    "\twidth_shift_range=0.2, height_shift_range=0.2, shear_range=0.15,\n",
    "\thorizontal_flip=True, fill_mode=\"nearest\")"
   ]
  },
  {
   "cell_type": "code",
   "execution_count": 13,
   "metadata": {},
   "outputs": [],
   "source": [
    "from keras.losses import categorical_crossentropy"
   ]
  },
  {
   "cell_type": "code",
   "execution_count": 14,
   "metadata": {},
   "outputs": [
    {
     "name": "stdout",
     "output_type": "stream",
     "text": [
      "[INFO] compiling model...\n"
     ]
    }
   ],
   "source": [
    "# initialize the optimizer and model\n",
    "print(\"[INFO] compiling model...\")\n",
    "opt = Adam(lr=INIT_LR, decay=INIT_LR / EPOCHS)\n",
    "model = LivenessNet.build(width=224, height=224, depth=3,\n",
    "    classes=2)\n",
    "# opt = Adam(lr=0.001)\n",
    "model.compile(optimizer=opt, loss=categorical_crossentropy, metrics=['accuracy'])\n",
    "# model.compile(loss=\"binary_crossentropy\", optimizer=opt,\n",
    "#     metrics=[\"accuracy\"])"
   ]
  },
  {
   "cell_type": "code",
   "execution_count": null,
   "metadata": {},
   "outputs": [],
   "source": [
    "model.fit_generator(\n",
    "        train_generator,\n",
    "        steps_per_epoch=16 // batch_size,\n",
    "        epochs=50,\n",
    "        validation_data=validation_generator,\n",
    "        validation_steps=16 // batch_size)\n",
    "model.save_weights('first_try.h5')  # always save your weights after training or during training"
   ]
  },
  {
   "cell_type": "code",
   "execution_count": null,
   "metadata": {},
   "outputs": [],
   "source": []
  },
  {
   "cell_type": "code",
   "execution_count": 15,
   "metadata": {},
   "outputs": [],
   "source": [
    "from keras.optimizers import Adam\n",
    "opt = Adam(lr=0.001)\n",
    "model.compile(optimizer=opt, loss=categorical_crossentropy, metrics=['accuracy'])"
   ]
  },
  {
   "cell_type": "code",
   "execution_count": 17,
   "metadata": {},
   "outputs": [
    {
     "name": "stdout",
     "output_type": "stream",
     "text": [
      "WARNING:tensorflow:`period` argument is deprecated. Please use `save_freq` to specify the frequency in number of batches seen.\n"
     ]
    }
   ],
   "source": [
    "from keras.callbacks import ModelCheckpoint, EarlyStopping\n",
    "checkpoint = ModelCheckpoint(\"vgg16_1.h5\", monitor='val_acc', verbose=1, save_best_only=True, save_weights_only=False, mode='auto', period=1)\n",
    "early = EarlyStopping(monitor='val_acc', min_delta=0, patience=20, verbose=1, mode='auto')\n",
    "# hist = model.fit_generator(steps_per_epoch=100,generator=train_generator, validation_data= validation_generator, validation_steps=10,epochs=50,callbacks=[checkpoint,early])"
   ]
  },
  {
   "cell_type": "code",
   "execution_count": 18,
   "metadata": {},
   "outputs": [
    {
     "name": "stdout",
     "output_type": "stream",
     "text": [
      "[INFO] training network for 50 epochs...\n",
      "Epoch 1/50\n",
      "165/165 [==============================] - ETA: 0s - loss: 0.6092 - accuracy: 0.7303WARNING:tensorflow:Can save best model only with val_acc available, skipping.\n",
      "WARNING:tensorflow:Early stopping conditioned on metric `val_acc` which is not available. Available metrics are: loss,accuracy,val_loss,val_accuracy\n",
      "165/165 [==============================] - 50s 303ms/step - loss: 0.6092 - accuracy: 0.7303 - val_loss: 0.5666 - val_accuracy: 0.7474\n",
      "Epoch 2/50\n",
      "165/165 [==============================] - ETA: 0s - loss: 0.5824 - accuracy: 0.7356WARNING:tensorflow:Can save best model only with val_acc available, skipping.\n",
      "WARNING:tensorflow:Early stopping conditioned on metric `val_acc` which is not available. Available metrics are: loss,accuracy,val_loss,val_accuracy\n",
      "165/165 [==============================] - 46s 282ms/step - loss: 0.5824 - accuracy: 0.7356 - val_loss: 0.5688 - val_accuracy: 0.7474\n",
      "Epoch 3/50\n",
      "165/165 [==============================] - ETA: 0s - loss: 0.5808 - accuracy: 0.7371WARNING:tensorflow:Can save best model only with val_acc available, skipping.\n",
      "WARNING:tensorflow:Early stopping conditioned on metric `val_acc` which is not available. Available metrics are: loss,accuracy,val_loss,val_accuracy\n",
      "165/165 [==============================] - 47s 283ms/step - loss: 0.5808 - accuracy: 0.7371 - val_loss: 0.5704 - val_accuracy: 0.7474\n",
      "Epoch 4/50\n",
      "165/165 [==============================] - ETA: 0s - loss: 0.5802 - accuracy: 0.7360WARNING:tensorflow:Can save best model only with val_acc available, skipping.\n",
      "WARNING:tensorflow:Early stopping conditioned on metric `val_acc` which is not available. Available metrics are: loss,accuracy,val_loss,val_accuracy\n",
      "165/165 [==============================] - 47s 283ms/step - loss: 0.5802 - accuracy: 0.7360 - val_loss: 0.5675 - val_accuracy: 0.7474\n",
      "Epoch 5/50\n",
      "165/165 [==============================] - ETA: 0s - loss: 0.5795 - accuracy: 0.7371WARNING:tensorflow:Can save best model only with val_acc available, skipping.\n",
      "WARNING:tensorflow:Early stopping conditioned on metric `val_acc` which is not available. Available metrics are: loss,accuracy,val_loss,val_accuracy\n",
      "165/165 [==============================] - 47s 283ms/step - loss: 0.5795 - accuracy: 0.7371 - val_loss: 0.5656 - val_accuracy: 0.7474\n",
      "Epoch 6/50\n",
      "165/165 [==============================] - ETA: 0s - loss: 0.5812 - accuracy: 0.7356WARNING:tensorflow:Can save best model only with val_acc available, skipping.\n",
      "WARNING:tensorflow:Early stopping conditioned on metric `val_acc` which is not available. Available metrics are: loss,accuracy,val_loss,val_accuracy\n",
      "165/165 [==============================] - 47s 283ms/step - loss: 0.5812 - accuracy: 0.7356 - val_loss: 0.5694 - val_accuracy: 0.7474\n",
      "Epoch 7/50\n",
      "165/165 [==============================] - ETA: 0s - loss: 0.5832 - accuracy: 0.7352WARNING:tensorflow:Can save best model only with val_acc available, skipping.\n",
      "WARNING:tensorflow:Early stopping conditioned on metric `val_acc` which is not available. Available metrics are: loss,accuracy,val_loss,val_accuracy\n",
      "165/165 [==============================] - 47s 284ms/step - loss: 0.5832 - accuracy: 0.7352 - val_loss: 0.5655 - val_accuracy: 0.7474\n",
      "Epoch 8/50\n",
      "165/165 [==============================] - ETA: 0s - loss: 0.5799 - accuracy: 0.7352WARNING:tensorflow:Can save best model only with val_acc available, skipping.\n",
      "WARNING:tensorflow:Early stopping conditioned on metric `val_acc` which is not available. Available metrics are: loss,accuracy,val_loss,val_accuracy\n",
      "165/165 [==============================] - 47s 284ms/step - loss: 0.5799 - accuracy: 0.7352 - val_loss: 0.5685 - val_accuracy: 0.7474\n",
      "Epoch 9/50\n",
      "165/165 [==============================] - ETA: 0s - loss: 0.5801 - accuracy: 0.7360WARNING:tensorflow:Can save best model only with val_acc available, skipping.\n",
      "WARNING:tensorflow:Early stopping conditioned on metric `val_acc` which is not available. Available metrics are: loss,accuracy,val_loss,val_accuracy\n",
      "165/165 [==============================] - 47s 284ms/step - loss: 0.5801 - accuracy: 0.7360 - val_loss: 0.5695 - val_accuracy: 0.7474\n",
      "Epoch 10/50\n",
      "165/165 [==============================] - ETA: 0s - loss: 0.5789 - accuracy: 0.7360WARNING:tensorflow:Can save best model only with val_acc available, skipping.\n",
      "WARNING:tensorflow:Early stopping conditioned on metric `val_acc` which is not available. Available metrics are: loss,accuracy,val_loss,val_accuracy\n",
      "165/165 [==============================] - 47s 284ms/step - loss: 0.5789 - accuracy: 0.7360 - val_loss: 0.5656 - val_accuracy: 0.7474\n",
      "Epoch 11/50\n",
      "165/165 [==============================] - ETA: 0s - loss: 0.5821 - accuracy: 0.7356WARNING:tensorflow:Can save best model only with val_acc available, skipping.\n",
      "WARNING:tensorflow:Early stopping conditioned on metric `val_acc` which is not available. Available metrics are: loss,accuracy,val_loss,val_accuracy\n",
      "165/165 [==============================] - 47s 284ms/step - loss: 0.5821 - accuracy: 0.7356 - val_loss: 0.5652 - val_accuracy: 0.7474\n",
      "Epoch 12/50\n",
      "165/165 [==============================] - ETA: 0s - loss: 0.5785 - accuracy: 0.7364WARNING:tensorflow:Can save best model only with val_acc available, skipping.\n",
      "WARNING:tensorflow:Early stopping conditioned on metric `val_acc` which is not available. Available metrics are: loss,accuracy,val_loss,val_accuracy\n",
      "165/165 [==============================] - 47s 284ms/step - loss: 0.5785 - accuracy: 0.7364 - val_loss: 0.5659 - val_accuracy: 0.7474\n",
      "Epoch 13/50\n",
      "165/165 [==============================] - ETA: 0s - loss: 0.5810 - accuracy: 0.7360WARNING:tensorflow:Can save best model only with val_acc available, skipping.\n",
      "WARNING:tensorflow:Early stopping conditioned on metric `val_acc` which is not available. Available metrics are: loss,accuracy,val_loss,val_accuracy\n",
      "165/165 [==============================] - 47s 284ms/step - loss: 0.5810 - accuracy: 0.7360 - val_loss: 0.5655 - val_accuracy: 0.7474\n",
      "Epoch 14/50\n",
      "165/165 [==============================] - ETA: 0s - loss: 0.5798 - accuracy: 0.7360WARNING:tensorflow:Can save best model only with val_acc available, skipping.\n",
      "WARNING:tensorflow:Early stopping conditioned on metric `val_acc` which is not available. Available metrics are: loss,accuracy,val_loss,val_accuracy\n",
      "165/165 [==============================] - 47s 284ms/step - loss: 0.5798 - accuracy: 0.7360 - val_loss: 0.5672 - val_accuracy: 0.7474\n",
      "Epoch 15/50\n",
      "165/165 [==============================] - ETA: 0s - loss: 0.5812 - accuracy: 0.7352WARNING:tensorflow:Can save best model only with val_acc available, skipping.\n",
      "WARNING:tensorflow:Early stopping conditioned on metric `val_acc` which is not available. Available metrics are: loss,accuracy,val_loss,val_accuracy\n",
      "165/165 [==============================] - 47s 284ms/step - loss: 0.5812 - accuracy: 0.7352 - val_loss: 0.5653 - val_accuracy: 0.7474\n",
      "Epoch 16/50\n",
      "165/165 [==============================] - ETA: 0s - loss: 0.5789 - accuracy: 0.7364WARNING:tensorflow:Can save best model only with val_acc available, skipping.\n",
      "WARNING:tensorflow:Early stopping conditioned on metric `val_acc` which is not available. Available metrics are: loss,accuracy,val_loss,val_accuracy\n",
      "165/165 [==============================] - 47s 284ms/step - loss: 0.5789 - accuracy: 0.7364 - val_loss: 0.5654 - val_accuracy: 0.7474\n",
      "Epoch 17/50\n",
      "165/165 [==============================] - ETA: 0s - loss: 0.5806 - accuracy: 0.7352WARNING:tensorflow:Can save best model only with val_acc available, skipping.\n",
      "WARNING:tensorflow:Early stopping conditioned on metric `val_acc` which is not available. Available metrics are: loss,accuracy,val_loss,val_accuracy\n",
      "165/165 [==============================] - 47s 284ms/step - loss: 0.5806 - accuracy: 0.7352 - val_loss: 0.5663 - val_accuracy: 0.7474\n",
      "Epoch 18/50\n",
      "165/165 [==============================] - ETA: 0s - loss: 0.5782 - accuracy: 0.7364WARNING:tensorflow:Can save best model only with val_acc available, skipping.\n",
      "WARNING:tensorflow:Early stopping conditioned on metric `val_acc` which is not available. Available metrics are: loss,accuracy,val_loss,val_accuracy\n",
      "165/165 [==============================] - 47s 284ms/step - loss: 0.5782 - accuracy: 0.7364 - val_loss: 0.5653 - val_accuracy: 0.7474\n"
     ]
    },
    {
     "name": "stdout",
     "output_type": "stream",
     "text": [
      "Epoch 19/50\n",
      "165/165 [==============================] - ETA: 0s - loss: 0.5780 - accuracy: 0.7352WARNING:tensorflow:Can save best model only with val_acc available, skipping.\n",
      "WARNING:tensorflow:Early stopping conditioned on metric `val_acc` which is not available. Available metrics are: loss,accuracy,val_loss,val_accuracy\n",
      "165/165 [==============================] - 47s 284ms/step - loss: 0.5780 - accuracy: 0.7352 - val_loss: 0.5653 - val_accuracy: 0.7474\n",
      "Epoch 20/50\n",
      "165/165 [==============================] - ETA: 0s - loss: 0.5802 - accuracy: 0.7349WARNING:tensorflow:Can save best model only with val_acc available, skipping.\n",
      "WARNING:tensorflow:Early stopping conditioned on metric `val_acc` which is not available. Available metrics are: loss,accuracy,val_loss,val_accuracy\n",
      "165/165 [==============================] - 47s 284ms/step - loss: 0.5802 - accuracy: 0.7349 - val_loss: 0.5653 - val_accuracy: 0.7474\n",
      "Epoch 21/50\n",
      "165/165 [==============================] - ETA: 0s - loss: 0.5800 - accuracy: 0.7360WARNING:tensorflow:Can save best model only with val_acc available, skipping.\n",
      "WARNING:tensorflow:Early stopping conditioned on metric `val_acc` which is not available. Available metrics are: loss,accuracy,val_loss,val_accuracy\n",
      "165/165 [==============================] - 47s 284ms/step - loss: 0.5800 - accuracy: 0.7360 - val_loss: 0.5653 - val_accuracy: 0.7474\n",
      "Epoch 22/50\n",
      "165/165 [==============================] - ETA: 0s - loss: 0.5778 - accuracy: 0.7368WARNING:tensorflow:Can save best model only with val_acc available, skipping.\n",
      "WARNING:tensorflow:Early stopping conditioned on metric `val_acc` which is not available. Available metrics are: loss,accuracy,val_loss,val_accuracy\n",
      "165/165 [==============================] - 47s 284ms/step - loss: 0.5778 - accuracy: 0.7368 - val_loss: 0.5653 - val_accuracy: 0.7474\n",
      "Epoch 23/50\n",
      "165/165 [==============================] - ETA: 0s - loss: 0.5795 - accuracy: 0.7356WARNING:tensorflow:Can save best model only with val_acc available, skipping.\n",
      "WARNING:tensorflow:Early stopping conditioned on metric `val_acc` which is not available. Available metrics are: loss,accuracy,val_loss,val_accuracy\n",
      "165/165 [==============================] - 47s 284ms/step - loss: 0.5795 - accuracy: 0.7356 - val_loss: 0.5652 - val_accuracy: 0.7474\n",
      "Epoch 24/50\n",
      "165/165 [==============================] - ETA: 0s - loss: 0.5785 - accuracy: 0.7356WARNING:tensorflow:Can save best model only with val_acc available, skipping.\n",
      "WARNING:tensorflow:Early stopping conditioned on metric `val_acc` which is not available. Available metrics are: loss,accuracy,val_loss,val_accuracy\n",
      "165/165 [==============================] - 47s 284ms/step - loss: 0.5785 - accuracy: 0.7356 - val_loss: 0.5652 - val_accuracy: 0.7474\n",
      "Epoch 25/50\n",
      "165/165 [==============================] - ETA: 0s - loss: 0.5793 - accuracy: 0.7356WARNING:tensorflow:Can save best model only with val_acc available, skipping.\n",
      "WARNING:tensorflow:Early stopping conditioned on metric `val_acc` which is not available. Available metrics are: loss,accuracy,val_loss,val_accuracy\n",
      "165/165 [==============================] - 47s 284ms/step - loss: 0.5793 - accuracy: 0.7356 - val_loss: 0.5653 - val_accuracy: 0.7474\n",
      "Epoch 26/50\n",
      "165/165 [==============================] - ETA: 0s - loss: 0.5771 - accuracy: 0.7364WARNING:tensorflow:Can save best model only with val_acc available, skipping.\n",
      "WARNING:tensorflow:Early stopping conditioned on metric `val_acc` which is not available. Available metrics are: loss,accuracy,val_loss,val_accuracy\n",
      "165/165 [==============================] - 47s 284ms/step - loss: 0.5771 - accuracy: 0.7364 - val_loss: 0.5670 - val_accuracy: 0.7474\n",
      "Epoch 27/50\n",
      "165/165 [==============================] - ETA: 0s - loss: 0.5771 - accuracy: 0.7371WARNING:tensorflow:Can save best model only with val_acc available, skipping.\n",
      "WARNING:tensorflow:Early stopping conditioned on metric `val_acc` which is not available. Available metrics are: loss,accuracy,val_loss,val_accuracy\n",
      "165/165 [==============================] - 47s 285ms/step - loss: 0.5771 - accuracy: 0.7371 - val_loss: 0.5662 - val_accuracy: 0.7474\n",
      "Epoch 28/50\n",
      "165/165 [==============================] - ETA: 0s - loss: 0.5795 - accuracy: 0.7360WARNING:tensorflow:Can save best model only with val_acc available, skipping.\n",
      "WARNING:tensorflow:Early stopping conditioned on metric `val_acc` which is not available. Available metrics are: loss,accuracy,val_loss,val_accuracy\n",
      "165/165 [==============================] - 47s 284ms/step - loss: 0.5795 - accuracy: 0.7360 - val_loss: 0.5668 - val_accuracy: 0.7474\n",
      "Epoch 29/50\n",
      "165/165 [==============================] - ETA: 0s - loss: 0.5786 - accuracy: 0.7356WARNING:tensorflow:Can save best model only with val_acc available, skipping.\n",
      "WARNING:tensorflow:Early stopping conditioned on metric `val_acc` which is not available. Available metrics are: loss,accuracy,val_loss,val_accuracy\n",
      "165/165 [==============================] - 47s 284ms/step - loss: 0.5786 - accuracy: 0.7356 - val_loss: 0.5694 - val_accuracy: 0.7474\n",
      "Epoch 30/50\n",
      "165/165 [==============================] - ETA: 0s - loss: 0.5787 - accuracy: 0.7364WARNING:tensorflow:Can save best model only with val_acc available, skipping.\n",
      "WARNING:tensorflow:Early stopping conditioned on metric `val_acc` which is not available. Available metrics are: loss,accuracy,val_loss,val_accuracy\n",
      "165/165 [==============================] - 47s 284ms/step - loss: 0.5787 - accuracy: 0.7364 - val_loss: 0.5670 - val_accuracy: 0.7474\n",
      "Epoch 31/50\n",
      "165/165 [==============================] - ETA: 0s - loss: 0.5801 - accuracy: 0.7368WARNING:tensorflow:Can save best model only with val_acc available, skipping.\n",
      "WARNING:tensorflow:Early stopping conditioned on metric `val_acc` which is not available. Available metrics are: loss,accuracy,val_loss,val_accuracy\n",
      "165/165 [==============================] - 47s 284ms/step - loss: 0.5801 - accuracy: 0.7368 - val_loss: 0.5653 - val_accuracy: 0.7474\n",
      "Epoch 32/50\n",
      "165/165 [==============================] - ETA: 0s - loss: 0.5789 - accuracy: 0.7352WARNING:tensorflow:Can save best model only with val_acc available, skipping.\n",
      "WARNING:tensorflow:Early stopping conditioned on metric `val_acc` which is not available. Available metrics are: loss,accuracy,val_loss,val_accuracy\n",
      "165/165 [==============================] - 47s 284ms/step - loss: 0.5789 - accuracy: 0.7352 - val_loss: 0.5685 - val_accuracy: 0.7474\n",
      "Epoch 33/50\n",
      "165/165 [==============================] - ETA: 0s - loss: 0.5785 - accuracy: 0.7364WARNING:tensorflow:Can save best model only with val_acc available, skipping.\n",
      "WARNING:tensorflow:Early stopping conditioned on metric `val_acc` which is not available. Available metrics are: loss,accuracy,val_loss,val_accuracy\n",
      "165/165 [==============================] - 47s 284ms/step - loss: 0.5785 - accuracy: 0.7364 - val_loss: 0.5652 - val_accuracy: 0.7474\n",
      "Epoch 34/50\n",
      "165/165 [==============================] - ETA: 0s - loss: 0.5779 - accuracy: 0.7364WARNING:tensorflow:Can save best model only with val_acc available, skipping.\n",
      "WARNING:tensorflow:Early stopping conditioned on metric `val_acc` which is not available. Available metrics are: loss,accuracy,val_loss,val_accuracy\n",
      "165/165 [==============================] - 47s 284ms/step - loss: 0.5779 - accuracy: 0.7364 - val_loss: 0.5653 - val_accuracy: 0.7474\n",
      "Epoch 35/50\n",
      "165/165 [==============================] - ETA: 0s - loss: 0.5796 - accuracy: 0.7360WARNING:tensorflow:Can save best model only with val_acc available, skipping.\n",
      "WARNING:tensorflow:Early stopping conditioned on metric `val_acc` which is not available. Available metrics are: loss,accuracy,val_loss,val_accuracy\n",
      "165/165 [==============================] - 47s 284ms/step - loss: 0.5796 - accuracy: 0.7360 - val_loss: 0.5677 - val_accuracy: 0.7474\n",
      "Epoch 36/50\n",
      "165/165 [==============================] - ETA: 0s - loss: 0.5775 - accuracy: 0.7368WARNING:tensorflow:Can save best model only with val_acc available, skipping.\n",
      "WARNING:tensorflow:Early stopping conditioned on metric `val_acc` which is not available. Available metrics are: loss,accuracy,val_loss,val_accuracy\n",
      "165/165 [==============================] - 47s 284ms/step - loss: 0.5775 - accuracy: 0.7368 - val_loss: 0.5652 - val_accuracy: 0.7474\n"
     ]
    },
    {
     "name": "stdout",
     "output_type": "stream",
     "text": [
      "Epoch 37/50\n",
      "165/165 [==============================] - ETA: 0s - loss: 0.5784 - accuracy: 0.7368WARNING:tensorflow:Can save best model only with val_acc available, skipping.\n",
      "WARNING:tensorflow:Early stopping conditioned on metric `val_acc` which is not available. Available metrics are: loss,accuracy,val_loss,val_accuracy\n",
      "165/165 [==============================] - 47s 285ms/step - loss: 0.5784 - accuracy: 0.7368 - val_loss: 0.5658 - val_accuracy: 0.7474\n",
      "Epoch 38/50\n",
      "165/165 [==============================] - ETA: 0s - loss: 0.5778 - accuracy: 0.7356WARNING:tensorflow:Can save best model only with val_acc available, skipping.\n",
      "WARNING:tensorflow:Early stopping conditioned on metric `val_acc` which is not available. Available metrics are: loss,accuracy,val_loss,val_accuracy\n",
      "165/165 [==============================] - 47s 284ms/step - loss: 0.5778 - accuracy: 0.7356 - val_loss: 0.5677 - val_accuracy: 0.7474\n",
      "Epoch 39/50\n",
      "165/165 [==============================] - ETA: 0s - loss: 0.5778 - accuracy: 0.7371WARNING:tensorflow:Can save best model only with val_acc available, skipping.\n",
      "WARNING:tensorflow:Early stopping conditioned on metric `val_acc` which is not available. Available metrics are: loss,accuracy,val_loss,val_accuracy\n",
      "165/165 [==============================] - 47s 284ms/step - loss: 0.5778 - accuracy: 0.7371 - val_loss: 0.5660 - val_accuracy: 0.7474\n",
      "Epoch 40/50\n",
      "165/165 [==============================] - ETA: 0s - loss: 0.5805 - accuracy: 0.7356WARNING:tensorflow:Can save best model only with val_acc available, skipping.\n",
      "WARNING:tensorflow:Early stopping conditioned on metric `val_acc` which is not available. Available metrics are: loss,accuracy,val_loss,val_accuracy\n",
      "165/165 [==============================] - 47s 284ms/step - loss: 0.5805 - accuracy: 0.7356 - val_loss: 0.5658 - val_accuracy: 0.7474\n",
      "Epoch 41/50\n",
      "165/165 [==============================] - ETA: 0s - loss: 0.5788 - accuracy: 0.7360WARNING:tensorflow:Can save best model only with val_acc available, skipping.\n",
      "WARNING:tensorflow:Early stopping conditioned on metric `val_acc` which is not available. Available metrics are: loss,accuracy,val_loss,val_accuracy\n",
      "165/165 [==============================] - 47s 284ms/step - loss: 0.5788 - accuracy: 0.7360 - val_loss: 0.5677 - val_accuracy: 0.7474\n",
      "Epoch 42/50\n",
      "165/165 [==============================] - ETA: 0s - loss: 0.5772 - accuracy: 0.7371WARNING:tensorflow:Can save best model only with val_acc available, skipping.\n",
      "WARNING:tensorflow:Early stopping conditioned on metric `val_acc` which is not available. Available metrics are: loss,accuracy,val_loss,val_accuracy\n",
      "165/165 [==============================] - 47s 284ms/step - loss: 0.5772 - accuracy: 0.7371 - val_loss: 0.5675 - val_accuracy: 0.7474\n",
      "Epoch 43/50\n",
      "165/165 [==============================] - ETA: 0s - loss: 0.5794 - accuracy: 0.7356WARNING:tensorflow:Can save best model only with val_acc available, skipping.\n",
      "WARNING:tensorflow:Early stopping conditioned on metric `val_acc` which is not available. Available metrics are: loss,accuracy,val_loss,val_accuracy\n",
      "165/165 [==============================] - 47s 284ms/step - loss: 0.5794 - accuracy: 0.7356 - val_loss: 0.5673 - val_accuracy: 0.7474\n",
      "Epoch 44/50\n",
      "165/165 [==============================] - ETA: 0s - loss: 0.5772 - accuracy: 0.7368WARNING:tensorflow:Can save best model only with val_acc available, skipping.\n",
      "WARNING:tensorflow:Early stopping conditioned on metric `val_acc` which is not available. Available metrics are: loss,accuracy,val_loss,val_accuracy\n",
      "165/165 [==============================] - 47s 284ms/step - loss: 0.5772 - accuracy: 0.7368 - val_loss: 0.5653 - val_accuracy: 0.7474\n",
      "Epoch 45/50\n",
      "165/165 [==============================] - ETA: 0s - loss: 0.5782 - accuracy: 0.7364WARNING:tensorflow:Can save best model only with val_acc available, skipping.\n",
      "WARNING:tensorflow:Early stopping conditioned on metric `val_acc` which is not available. Available metrics are: loss,accuracy,val_loss,val_accuracy\n",
      "165/165 [==============================] - 47s 284ms/step - loss: 0.5782 - accuracy: 0.7364 - val_loss: 0.5656 - val_accuracy: 0.7474\n",
      "Epoch 46/50\n",
      "165/165 [==============================] - ETA: 0s - loss: 0.5799 - accuracy: 0.7356WARNING:tensorflow:Can save best model only with val_acc available, skipping.\n",
      "WARNING:tensorflow:Early stopping conditioned on metric `val_acc` which is not available. Available metrics are: loss,accuracy,val_loss,val_accuracy\n",
      "165/165 [==============================] - 47s 284ms/step - loss: 0.5799 - accuracy: 0.7356 - val_loss: 0.5653 - val_accuracy: 0.7474\n",
      "Epoch 47/50\n",
      "165/165 [==============================] - ETA: 0s - loss: 0.5768 - accuracy: 0.7375WARNING:tensorflow:Can save best model only with val_acc available, skipping.\n",
      "WARNING:tensorflow:Early stopping conditioned on metric `val_acc` which is not available. Available metrics are: loss,accuracy,val_loss,val_accuracy\n",
      "165/165 [==============================] - 47s 285ms/step - loss: 0.5768 - accuracy: 0.7375 - val_loss: 0.5683 - val_accuracy: 0.7474\n",
      "Epoch 48/50\n",
      "165/165 [==============================] - ETA: 0s - loss: 0.5769 - accuracy: 0.7368WARNING:tensorflow:Can save best model only with val_acc available, skipping.\n",
      "WARNING:tensorflow:Early stopping conditioned on metric `val_acc` which is not available. Available metrics are: loss,accuracy,val_loss,val_accuracy\n",
      "165/165 [==============================] - 47s 284ms/step - loss: 0.5769 - accuracy: 0.7368 - val_loss: 0.5653 - val_accuracy: 0.7474\n",
      "Epoch 49/50\n",
      "165/165 [==============================] - ETA: 0s - loss: 0.5780 - accuracy: 0.7375WARNING:tensorflow:Can save best model only with val_acc available, skipping.\n",
      "WARNING:tensorflow:Early stopping conditioned on metric `val_acc` which is not available. Available metrics are: loss,accuracy,val_loss,val_accuracy\n",
      "165/165 [==============================] - 47s 284ms/step - loss: 0.5780 - accuracy: 0.7375 - val_loss: 0.5669 - val_accuracy: 0.7474\n",
      "Epoch 50/50\n",
      "165/165 [==============================] - ETA: 0s - loss: 0.5793 - accuracy: 0.7356WARNING:tensorflow:Can save best model only with val_acc available, skipping.\n",
      "WARNING:tensorflow:Early stopping conditioned on metric `val_acc` which is not available. Available metrics are: loss,accuracy,val_loss,val_accuracy\n",
      "165/165 [==============================] - 47s 285ms/step - loss: 0.5793 - accuracy: 0.7356 - val_loss: 0.5659 - val_accuracy: 0.7474\n"
     ]
    }
   ],
   "source": [
    "# train the network\n",
    "print(\"[INFO] training network for {} epochs...\".format(EPOCHS))\n",
    "H = model.fit(x=aug.flow(trainX, trainY, batch_size=BS),\n",
    "\tvalidation_data=(testX, testY), steps_per_epoch=len(trainX) // BS,\n",
    "\tepochs=EPOCHS,callbacks=[checkpoint,early])"
   ]
  },
  {
   "cell_type": "code",
   "execution_count": 19,
   "metadata": {},
   "outputs": [
    {
     "name": "stdout",
     "output_type": "stream",
     "text": [
      "[INFO] evaluating network...\n",
      "              precision    recall  f1-score   support\n",
      "\n",
      "        fake       0.75      1.00      0.86       494\n",
      "        real       0.00      0.00      0.00       167\n",
      "\n",
      "    accuracy                           0.75       661\n",
      "   macro avg       0.37      0.50      0.43       661\n",
      "weighted avg       0.56      0.75      0.64       661\n",
      "\n"
     ]
    },
    {
     "name": "stderr",
     "output_type": "stream",
     "text": [
      "D:\\Anaconda3\\lib\\site-packages\\sklearn\\metrics\\_classification.py:1221: UndefinedMetricWarning: Precision and F-score are ill-defined and being set to 0.0 in labels with no predicted samples. Use `zero_division` parameter to control this behavior.\n",
      "  _warn_prf(average, modifier, msg_start, len(result))\n"
     ]
    }
   ],
   "source": [
    "# evaluate the network\n",
    "print(\"[INFO] evaluating network...\")\n",
    "predictions = model.predict(x=testX, batch_size=BS)\n",
    "print(classification_report(testY.argmax(axis=1),\n",
    "\tpredictions.argmax(axis=1), target_names=le.classes_))"
   ]
  },
  {
   "cell_type": "code",
   "execution_count": 20,
   "metadata": {},
   "outputs": [
    {
     "name": "stdout",
     "output_type": "stream",
     "text": [
      "[INFO] serializing network to 'liveness.model'...\n"
     ]
    }
   ],
   "source": [
    "# save the network to disk\n",
    "print(\"[INFO] serializing network to '{}'...\".format(\"liveness.model\"))\n",
    "model.save(\"liveness_vgg19.model\", save_format=\"h5\")"
   ]
  },
  {
   "cell_type": "code",
   "execution_count": 21,
   "metadata": {},
   "outputs": [],
   "source": [
    "# save the label encoder to disk\n",
    "f = open(\"le.pickle\", \"wb\")\n",
    "f.write(pickle.dumps(le))\n",
    "f.close()"
   ]
  },
  {
   "cell_type": "code",
   "execution_count": 22,
   "metadata": {},
   "outputs": [
    {
     "data": {
      "image/png": "[encoded data removed]",
      "text/plain": [
       "<Figure size 432x288 with 1 Axes>"
      ]
     },
     "metadata": {},
     "output_type": "display_data"
    }
   ],
   "source": [
    "# plot the training loss and accuracy\n",
    "plt.style.use(\"ggplot\")\n",
    "plt.figure()\n",
    "plt.plot(np.arange(0, EPOCHS), H.history[\"loss\"], label=\"train_loss\")\n",
    "plt.plot(np.arange(0, EPOCHS), H.history[\"val_loss\"], label=\"val_loss\")\n",
    "plt.plot(np.arange(0, EPOCHS), H.history[\"accuracy\"], label=\"train_acc\")\n",
    "plt.plot(np.arange(0, EPOCHS), H.history[\"val_accuracy\"], label=\"val_acc\")\n",
    "plt.title(\"Training Loss and Accuracy on Dataset\")\n",
    "plt.xlabel(\"Epoch #\")\n",
    "plt.ylabel(\"Loss/Accuracy\")\n",
    "plt.legend(loc=\"lower left\")\n",
    "plt.savefig(\"plot19.png\")"
   ]
  },
  {
   "cell_type": "code",
   "execution_count": null,
   "metadata": {},
   "outputs": [],
   "source": []
  }
 ],
 "metadata": {
  "kernelspec": {
   "display_name": "Python 3",
   "language": "python",
   "name": "python3"
  },
  "language_info": {
   "codemirror_mode": {
    "name": "ipython",
    "version": 3
   },
   "file_extension": ".py",
   "mimetype": "text/x-python",
   "name": "python",
   "nbconvert_exporter": "python",
   "pygments_lexer": "ipython3",
   "version": "3.8.3"
  }
 },
 "nbformat": 4,
 "nbformat_minor": 4
}
